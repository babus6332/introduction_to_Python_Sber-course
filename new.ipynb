{
 "cells": [
  {
   "cell_type": "markdown",
   "metadata": {},
   "source": [
    "### Задача 5 Статистика"
   ]
  },
  {
   "cell_type": "code",
   "execution_count": 5,
   "metadata": {},
   "outputs": [],
   "source": [
    "even, odd = '',''\n",
    "with open(\"input.txt\",'r') as file_in:\n",
    "    for line in file_in:\n",
    "        a = line.split(' ')\n",
    "    for i in range(len(a)):\n",
    "        if (((int(a[i])) % 2) == 0):\n",
    "            even = even + str(int(a[i])) + ' '\n",
    "        else:\n",
    "            odd = odd + str(int(a[i])) + ' '"
   ]
  },
  {
   "cell_type": "code",
   "execution_count": 6,
   "metadata": {},
   "outputs": [],
   "source": [
    "with open('output.txt','w') as file_out:\n",
    "    file_out.write(odd)\n",
    "    file_out.write('\\n')\n",
    "    file_out.write(even)\n",
    "    file_out.write('\\n')\n",
    "    if (len(even) <= len(odd)):\n",
    "        file_out.write('NO')\n",
    "    else:\n",
    "        file_out.write('YES')"
   ]
  },
  {
   "cell_type": "markdown",
   "metadata": {},
   "source": [
    "### Задача 9. Домашнее задание. "
   ]
  },
  {
   "cell_type": "code",
   "execution_count": 110,
   "metadata": {},
   "outputs": [],
   "source": [
    "s, m = 0,1\n",
    "num = []\n",
    "with open(\"input.txt\",'r') as file_in:\n",
    "    for line in file_in:\n",
    "        a = line.split(' ')\n",
    "    for i in range(len(a)):\n",
    "        num.append(int(a[i]))\n",
    "        if (((int(a[i])) > 0)):\n",
    "            s = s + int(a[i])\n",
    "    mn = min(num)\n",
    "    mx = max(num)\n",
    "    for i in range(len(num)):\n",
    "        if (num[i] == mn):\n",
    "            index1 = i\n",
    "        if (num[i] == mx):\n",
    "            index2 = i\n",
    "    if (index1 <= index2):\n",
    "        for i in range(index1+1,index2):\n",
    "            m = m * num[i]\n",
    "    else:\n",
    "        for i in range(index2+1,index1):\n",
    "            m = m * num[i]"
   ]
  },
  {
   "cell_type": "code",
   "execution_count": 113,
   "metadata": {},
   "outputs": [],
   "source": [
    "with open('output.txt','w') as file_out:\n",
    "    file_out.write(str(s))\n",
    "    file_out.write(' ')\n",
    "    file_out.write(str(m))"
   ]
  },
  {
   "cell_type": "markdown",
   "metadata": {},
   "source": [
    "### Задача 14. НОК"
   ]
  },
  {
   "cell_type": "code",
   "execution_count": 130,
   "metadata": {},
   "outputs": [],
   "source": [
    "def lcm(a,b):\n",
    "    m = a*b\n",
    "    while a != 0 and b != 0:\n",
    "        if a > b:\n",
    "            a %= b\n",
    "        else:\n",
    "            b %= a\n",
    "    return m // (a+b)\n",
    " \n",
    "with open(\"input.txt\",'r') as file_in:\n",
    "    for line in file_in:\n",
    "        a = line.split(' ')\n",
    "    ans = lcm(int(a[0]),int(a[1]))"
   ]
  },
  {
   "cell_type": "code",
   "execution_count": 131,
   "metadata": {},
   "outputs": [],
   "source": [
    "with open('output.txt','w') as file_out:\n",
    "    file_out.write(str(ans))"
   ]
  }
 ],
 "metadata": {
  "kernelspec": {
   "display_name": "Python 3",
   "language": "python",
   "name": "python3"
  },
  "language_info": {
   "codemirror_mode": {
    "name": "ipython",
    "version": 3
   },
   "file_extension": ".py",
   "mimetype": "text/x-python",
   "name": "python",
   "nbconvert_exporter": "python",
   "pygments_lexer": "ipython3",
   "version": "3.6.4"
  }
 },
 "nbformat": 4,
 "nbformat_minor": 2
}
